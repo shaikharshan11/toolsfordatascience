{
 "cells": [
  {
   "cell_type": "markdown",
   "id": "80e60683",
   "metadata": {},
   "source": [
    "# Data Science Tools and Ecosystem"
   ]
  },
  {
   "cell_type": "markdown",
   "id": "7d967b2f",
   "metadata": {},
   "source": [
    "In this notebook, Data Science Tools and Ecosystem are summarized"
   ]
  },
  {
   "cell_type": "markdown",
   "id": "6af7d1e5",
   "metadata": {},
   "source": [
    "**Ojectives:**\n",
    "- Git\n",
    "- Github\n",
    "- Jupyter Lab\n",
    "- R Studio\n",
    "- Tensorflow"
   ]
  },
  {
   "cell_type": "markdown",
   "id": "fe6bbaec",
   "metadata": {},
   "source": [
    "## Author\n",
    "Mohammad Arshan Shaikh"
   ]
  },
  {
   "cell_type": "markdown",
   "id": "072bd133",
   "metadata": {},
   "source": [
    "Some of the popular languages that Data Scientists use are:\n",
    "1. R\n",
    "2. Python\n",
    "3. SQL\n",
    "4. Java\n",
    "5. Go"
   ]
  },
  {
   "cell_type": "markdown",
   "id": "b9fefbbd",
   "metadata": {},
   "source": [
    "Some of the commonly used libraries used by Data Scientists include:\n",
    "1. Pandas\n",
    "2. Numpy\n",
    "3. Scikit Learn\n",
    "4. Seaborn\n",
    "5. Matplotlib"
   ]
  },
  {
   "cell_type": "markdown",
   "id": "433293d5",
   "metadata": {},
   "source": [
    "Data Science Tools |\n",
    "------------------ |\n",
    "VS Code |\n",
    "Jupyter Notebook |\n",
    "Rstudio|"
   ]
  },
  {
   "cell_type": "markdown",
   "id": "35b20378",
   "metadata": {},
   "source": [
    "### Below are a few examples of evaluating arithmetic expressions in python"
   ]
  },
  {
   "cell_type": "code",
   "execution_count": 3,
   "id": "5ee434b9",
   "metadata": {},
   "outputs": [
    {
     "data": {
      "text/plain": [
       "17"
      ]
     },
     "execution_count": 3,
     "metadata": {},
     "output_type": "execute_result"
    }
   ],
   "source": [
    "#This is a sample arithmetic expression to multiply then add integers.\n",
    "(3*4)+5"
   ]
  },
  {
   "cell_type": "code",
   "execution_count": 4,
   "id": "f2ef23b4",
   "metadata": {},
   "outputs": [
    {
     "name": "stdout",
     "output_type": "stream",
     "text": [
      "200 minutes is 3.3333333333333335 hours\n"
     ]
    }
   ],
   "source": [
    "#This will convert 200 minutes to hours by dividing by 60.\n",
    "hour = 200/60\n",
    "print(f\"200 minutes is {hour} hours\")"
   ]
  }
 ],
 "metadata": {
  "kernelspec": {
   "display_name": "Python 3 (ipykernel)",
   "language": "python",
   "name": "python3"
  },
  "language_info": {
   "codemirror_mode": {
    "name": "ipython",
    "version": 3
   },
   "file_extension": ".py",
   "mimetype": "text/x-python",
   "name": "python",
   "nbconvert_exporter": "python",
   "pygments_lexer": "ipython3",
   "version": "3.10.4"
  }
 },
 "nbformat": 4,
 "nbformat_minor": 5
}
